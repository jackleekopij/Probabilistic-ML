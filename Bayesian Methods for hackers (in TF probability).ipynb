{
 "cells": [
  {
   "cell_type": "markdown",
   "metadata": {},
   "source": [
    "# Probabilistic programming with TensorFlow (TF) Probability\n",
    "TF probability is a framework that machine learning practicioners, statisticians and data scienctists can use to incorporate domain knowledge to understand data and make predictions. \n",
    "\n",
    "Why use probabilistic methods? \n",
    "Uncertainty is ubiquitous; real-world phenomena — even those we completely understand — are subject to externalities beyond our control or even awareness.\n",
    "\n",
    "Construct probabilistic (generative) model that can learn parameters of a model to best explain the observed data.\n",
    "\n",
    "\n",
    "\n",
    "** To follow up on ** \n",
    "Hamiltonian Monte Carlo\n"
   ]
  }
 ],
 "metadata": {
  "kernelspec": {
   "display_name": "Python 2",
   "language": "python",
   "name": "python2"
  },
  "language_info": {
   "codemirror_mode": {
    "name": "ipython",
    "version": 2
   },
   "file_extension": ".py",
   "mimetype": "text/x-python",
   "name": "python",
   "nbconvert_exporter": "python",
   "pygments_lexer": "ipython2",
   "version": "2.7.14"
  }
 },
 "nbformat": 4,
 "nbformat_minor": 2
}
